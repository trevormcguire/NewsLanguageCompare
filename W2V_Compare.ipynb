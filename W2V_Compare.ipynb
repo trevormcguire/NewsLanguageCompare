{
 "cells": [
  {
   "cell_type": "code",
   "execution_count": 117,
   "metadata": {
    "scrolled": false
   },
   "outputs": [],
   "source": [
    "import pandas as pd\n",
    "import numpy as np\n",
    "import matplotlib.pyplot as plt\n",
    "from sklearn.metrics.pairwise import cosine_similarity\n",
    "from typing import *\n",
    "\n",
    "class WordVectors:\n",
    "    def __init__(self, vocab_path: str, vectors_path: str):\n",
    "        self.vocab = pd.read_csv(vocab_path ,delimiter=\"\\t\",header=None)[0].to_list()\n",
    "        self.vectors = np.genfromtxt(fname=vectors_path, delimiter=\"\\t\")\n",
    "        \n",
    "    def vector(self, word: str):\n",
    "        word_idx = self.vocab.index(word)\n",
    "        print(word_idx)\n",
    "        return self.vectors[word_idx]\n",
    "    \n",
    "    def vocab_length(self):\n",
    "        return len(self.vocab)\n",
    "    \n",
    "    def vector_shape(self):\n",
    "        return self.vectors.shape\n",
    "    \n",
    "    def most_similar(self,word: str, n: int) -> list:\n",
    "        w2v = self.vector(word)\n",
    "        sim = cosine_similarity(w2v.reshape(1, -1),self.vectors)\n",
    "        sim = np.argsort(sim)[0,::-1][1:n+1] #want the highest\n",
    "        sim_words = [self.vocab[idx] for idx in sim]\n",
    "        return sim_words\n",
    "\n",
    "\n",
    "CNN = WordVectors(\"cnn_vocab.tsv\", \"cnn_vectors.tsv\")\n",
    "FoxNews = WordVectors(\"foxnews_vocab.tsv\", \"foxnews_vectors.tsv\")\n",
    "\n"
   ]
  },
  {
   "cell_type": "code",
   "execution_count": 143,
   "metadata": {},
   "outputs": [
    {
     "name": "stdout",
     "output_type": "stream",
     "text": [
      "843\n"
     ]
    },
    {
     "data": {
      "text/plain": [
       "['president',\n",
       " 'housing_and_urban_development',\n",
       " 'vice',\n",
       " 'office_of_management_and_budget',\n",
       " 'icml',\n",
       " '(cnn)former',\n",
       " 'swathe',\n",
       " 'buttigieg',\n",
       " 'kamala_harris',\n",
       " \"memo'\",\n",
       " 'corrupt',\n",
       " 'ronald_reagan',\n",
       " 'rob_chan',\n",
       " 'prospects',\n",
       " 'isolationist',\n",
       " 'environment_policy_and_social_initiatives',\n",
       " 'candidacy',\n",
       " 'raphael_bostic',\n",
       " 'vows',\n",
       " 'reject',\n",
       " 'contradicting',\n",
       " 'posterior',\n",
       " 'objected',\n",
       " 'naacp_parker_county',\n",
       " 'los_angeles_clippers',\n",
       " 'pledged',\n",
       " 'john_verdi',\n",
       " 'brady_campaign_to_prevent_gun_violence',\n",
       " 'vaulting',\n",
       " 'secretaries']"
      ]
     },
     "execution_count": 143,
     "metadata": {},
     "output_type": "execute_result"
    }
   ],
   "source": [
    "word = \"donald_trump\"\n",
    "CNN.most_similar(word, 30)\n"
   ]
  },
  {
   "cell_type": "code",
   "execution_count": 144,
   "metadata": {},
   "outputs": [
    {
     "name": "stdout",
     "output_type": "stream",
     "text": [
      "126\n"
     ]
    },
    {
     "data": {
      "text/plain": [
       "['president',\n",
       " 'iranian_presidency',\n",
       " 'alexander_lukashenko',\n",
       " 'ashraf_ghani',\n",
       " 'george_w_bush',\n",
       " 'jerome_adams',\n",
       " 'ilan_yeshua',\n",
       " 'waukegan_school_board',\n",
       " '(then',\n",
       " 'nikolai_patrushev',\n",
       " 'fiirst',\n",
       " 'afgan',\n",
       " 'alexei_woltornist',\n",
       " 'joe_biden',\n",
       " 'jessica_francos',\n",
       " 'vice',\n",
       " '<quote>_council',\n",
       " 'briefed',\n",
       " 'vladimir_putin',\n",
       " 'international_ice_hockey_federation',\n",
       " 'carol_l_folt',\n",
       " 'rejoin',\n",
       " 'american_kennel_club',\n",
       " 'neil_gorsuch',\n",
       " 'roberta_jacobson',\n",
       " 'chorus',\n",
       " \"kamala_harris'\",\n",
       " 'pardoned',\n",
       " '(uscca)',\n",
       " 'open_borders']"
      ]
     },
     "execution_count": 144,
     "metadata": {},
     "output_type": "execute_result"
    }
   ],
   "source": [
    "FoxNews.most_similar(word,30)\n"
   ]
  },
  {
   "cell_type": "code",
   "execution_count": null,
   "metadata": {},
   "outputs": [],
   "source": []
  }
 ],
 "metadata": {
  "kernelspec": {
   "display_name": "Python 3",
   "language": "python",
   "name": "python3"
  },
  "language_info": {
   "codemirror_mode": {
    "name": "ipython",
    "version": 3
   },
   "file_extension": ".py",
   "mimetype": "text/x-python",
   "name": "python",
   "nbconvert_exporter": "python",
   "pygments_lexer": "ipython3",
   "version": "3.7.6"
  }
 },
 "nbformat": 4,
 "nbformat_minor": 4
}
